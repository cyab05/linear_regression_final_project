{
 "cells": [
  {
   "cell_type": "markdown",
   "id": "39762c64",
   "metadata": {},
   "source": [
    "# Robust Regression"
   ]
  },
  {
   "cell_type": "markdown",
   "id": "fe38bd8e",
   "metadata": {},
   "source": [
    "## Introduction"
   ]
  },
  {
   "cell_type": "markdown",
   "id": "b22c021f",
   "metadata": {},
   "source": [
    "One of the fundational goals of statistics is the ability to predict the future. While this goal is an impossible frontier to reach, even a small change in predictive accuracy can be the difference between fortune and failure. Elections are won and lost, hedge fund managers fired or promoted, and gamblers make it big or ruin their lives over a difference of a few percentage points in predictive accuracy. To put this into concrete terms, a sports gambler betting on simple wins and losses needs to win 52.38% of their bets to break even. [1] Winning 54% could net them a great fortune in the long run, and yet hitting on 50% of bets would result in devastating losses. The question is: how do we reliably predict the future? As you may realize by the success of Las Vegas casinos and sportbooks, we humans are not naturals at factoring in every variable, weighing them, and coming to a valid conclusion on our own. That is the beauty of **linear regression**.\n",
    "\n",
    "In short, linear regression is a model that estimates the relationship between a response variable, or the value we are trying to predict (think price of a stock or chance of a team winning), and one or more explanatory variables. Creating a linear regression model involves the collection of a large set of data, and the \"fitting\" of the explanatory columns of that dataset to the response column.\n",
    "\n",
    "Linear regression is a powerful tool, but it has its disadvantages. Particularly, there are assumptions about the characteristics of the dataset that must be met in order for traditional linear regression to be valid. However, the collection of a large dataset can be an expensive and time-consuming endevour. That is where the topic of the article, **robust regression**, comes into play. Robust regression is a form of linear regression that seeks to limit the effect that violations of assumptions have on the model. Before we dive into the details of robust regression, lets first introduce the basics of traditional linear regression."
   ]
  },
  {
   "cell_type": "markdown",
   "id": "c63ba47c",
   "metadata": {},
   "source": [
    "## The Basics"
   ]
  },
  {
   "cell_type": "markdown",
   "id": "75534d2d",
   "metadata": {},
   "source": [
    "## Digging Deeper"
   ]
  },
  {
   "cell_type": "markdown",
   "id": "a11f4a53",
   "metadata": {},
   "source": [
    "## Simulation"
   ]
  },
  {
   "cell_type": "markdown",
   "id": "839fcdd0",
   "metadata": {},
   "source": [
    "## References"
   ]
  },
  {
   "cell_type": "markdown",
   "id": "160a6ea9",
   "metadata": {},
   "source": [
    "1. Break even point in sports betting: https://medium.com/@BetLocksmith/the-single-most-important-number-in-sports-betting-092f97777e5e"
   ]
  }
 ],
 "metadata": {
  "language_info": {
   "name": "python"
  }
 },
 "nbformat": 4,
 "nbformat_minor": 5
}
